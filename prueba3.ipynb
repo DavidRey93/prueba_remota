{
 "cells": [
  {
   "cell_type": "code",
   "execution_count": 1,
   "metadata": {},
   "outputs": [],
   "source": [
    "lista=[1,2,3]"
   ]
  },
  {
   "cell_type": "code",
   "execution_count": 2,
   "metadata": {},
   "outputs": [
    {
     "data": {
      "text/plain": [
       "[1, 2, 3]"
      ]
     },
     "execution_count": 2,
     "metadata": {},
     "output_type": "execute_result"
    }
   ],
   "source": [
    "lista"
   ]
  },
  {
   "cell_type": "code",
   "execution_count": 9,
   "metadata": {},
   "outputs": [
    {
     "data": {
      "text/plain": [
       "['E',\n",
       " 'S',\n",
       " 'T',\n",
       " 'E',\n",
       " 'R',\n",
       " 'N',\n",
       " 'O',\n",
       " 'C',\n",
       " 'L',\n",
       " 'E',\n",
       " 'I',\n",
       " 'D',\n",
       " 'O',\n",
       " 'M',\n",
       " 'A',\n",
       " 'S',\n",
       " 'T',\n",
       " 'O',\n",
       " 'I',\n",
       " 'D',\n",
       " 'E',\n",
       " 'O']"
      ]
     },
     "execution_count": 9,
     "metadata": {},
     "output_type": "execute_result"
    }
   ],
   "source": [
    "palabra=\"esternocleidomastoideo\"\n",
    "\n",
    "mayuscula=[i.upper() for i in palabra]\n",
    "\n",
    "mayuscula"
   ]
  },
  {
   "cell_type": "code",
   "execution_count": null,
   "metadata": {},
   "outputs": [],
   "source": []
  }
 ],
 "metadata": {
  "kernelspec": {
   "display_name": "Python 3.9.7 ('base')",
   "language": "python",
   "name": "python3"
  },
  "language_info": {
   "codemirror_mode": {
    "name": "ipython",
    "version": 3
   },
   "file_extension": ".py",
   "mimetype": "text/x-python",
   "name": "python",
   "nbconvert_exporter": "python",
   "pygments_lexer": "ipython3",
   "version": "3.9.7"
  },
  "orig_nbformat": 4,
  "vscode": {
   "interpreter": {
    "hash": "72ee7bf2ca30955a13c70766b5dbb44590a9ffd97fe17e54b78e4db54ebc0357"
   }
  }
 },
 "nbformat": 4,
 "nbformat_minor": 2
}
